{
 "cells": [
  {
   "cell_type": "markdown",
   "metadata": {},
   "source": [
    "Assignment details\n",
    "==="
   ]
  },
  {
   "cell_type": "markdown",
   "metadata": {},
   "source": [
    "Main details\n",
    "---"
   ]
  },
  {
   "cell_type": "markdown",
   "metadata": {},
   "source": [
    "Maximum marks: **10**  \n",
    "Programming language: **Python** (basic level)  \n",
    "Assignment questions: **Post to the Wattle Discussion forum**  \n",
    "Deadline: **Wednesday, 27 October 2016, 11:59 PM** online via Wattle."
   ]
  },
  {
   "cell_type": "markdown",
   "metadata": {},
   "source": [
    "Marking scheme\n",
    "---"
   ]
  },
  {
   "cell_type": "markdown",
   "metadata": {},
   "source": [
    "**Written:**\n",
    "Full marks given for a formulation that provides a well-reasoned and\n",
    "succinct response to the question that addresses all requested points. There\n",
    "may be more than one answer for each question that achieves full marks.\n",
    "  \n",
    "**Code:**\n",
    "Full marks given for working, readable, reasonably effcient, commented\n",
    "code that performs well on the test case given in lab.\n",
    "  \n",
    "**Academic Misconduct Policy:**\n",
    "All submitted written work and code must be\n",
    "your own (except for any provided Java starter code, of course) | submitting\n",
    "work other than your own will lead to both a failure on the assignment and a\n",
    "referral of the case to the ANU academic misconduct review procedures:\n",
    "[ANU Academic Misconduct Procedures](https://policies.anu.edu.au/ppl/document/ANUP_000631)\n",
    "\n",
    "\n",
    "**Electronic submission:**\n",
    "All questions should be submitted online, to the corresponding Wattle discussion forum.\n",
    "The submission format is the iPython Notebook.\n",
    "Please download and start from the [provided notebook](http://rizoiu.eu/sna-lab-ipython/assignment-submission-notebook-bare.ipynb).\n",
    "Note that no other file can be submitted.\n",
    "If you need to write additional comments, do so using the iPython notebook's cells."
   ]
  },
  {
   "cell_type": "code",
   "execution_count": null,
   "metadata": {
    "collapsed": false
   },
   "outputs": [],
   "source": []
  }
 ],
 "metadata": {
  "kernelspec": {
   "display_name": "Python 2",
   "language": "python",
   "name": "python2"
  },
  "language_info": {
   "codemirror_mode": {
    "name": "ipython",
    "version": 2
   },
   "file_extension": ".py",
   "mimetype": "text/x-python",
   "name": "python",
   "nbconvert_exporter": "python",
   "pygments_lexer": "ipython2",
   "version": "2.7.12"
  }
 },
 "nbformat": 4,
 "nbformat_minor": 0
}

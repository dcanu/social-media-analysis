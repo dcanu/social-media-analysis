{
 "cells": [
  {
   "cell_type": "markdown",
   "metadata": {},
   "source": [
    "**Student first name:** *Debashish* `(put two spaces here to pass to new line)`  \n",
    "**Student last name:** *Chakraborty*  \n",
    "**Student ANU UNI ID:** *u4610248*"
   ]
  },
  {
   "cell_type": "markdown",
   "metadata": {},
   "source": [
    "COMP4650 Social Media Assignment Submission (10 points)\n",
    "==="
   ]
  },
  {
   "cell_type": "markdown",
   "metadata": {},
   "source": [
    "1. Assignment questions related to tutorial 1: Constructing and analyzing a social network\n",
    "---"
   ]
  },
  {
   "cell_type": "markdown",
   "metadata": {},
   "source": [
    "This initial code is necessary for loading into this notebook's Python kernel the object necessary for this part of the assignment. Run the next cell before starting to work on the assignment questions below."
   ]
  },
  {
   "cell_type": "code",
   "execution_count": 221,
   "metadata": {
    "collapsed": false
   },
   "outputs": [],
   "source": [
    "# necessary imports\n",
    "import csv\n",
    "import urllib2\n",
    "import networkx as nx\n",
    "\n",
    "# opening a local CSV file\n",
    "to_read = file(\"./dataset.csv\")  #use this line for a locally downloaded file\n",
    "# or reading it directly from the specified URL\n",
    "# url = 'http://rizoiu.eu/sna-lab-ipython/dataset.csv'\n",
    "# to_read = urllib2.urlopen(url)\n",
    "reader = csv.reader(to_read)\n",
    "\n",
    "#  construct the networkx graph\n",
    "G = nx.Graph()\n",
    "for line in reader:\n",
    "    if line[0] not in G:  G.add_node(line[0])\n",
    "    if line[1] not in G:  G.add_node(line[1])\n",
    "    G.add_edge(line[0], line[1])"
   ]
  },
  {
   "cell_type": "markdown",
   "metadata": {},
   "source": [
    "**(1 point) Assignment question #1.1:** Find another way of determining the number of users, by applying a (networkx) graph method."
   ]
  },
  {
   "cell_type": "code",
   "execution_count": 222,
   "metadata": {
    "collapsed": false
   },
   "outputs": [
    {
     "name": "stdout",
     "output_type": "stream",
     "text": [
      "The social graph contains 217 users.\n"
     ]
    }
   ],
   "source": [
    "# Number of nodes in the social (networkx) graph indicates the number of users\n",
    "print \"The social graph contains %s users.\" % G.number_of_nodes()"
   ]
  },
  {
   "cell_type": "markdown",
   "metadata": {},
   "source": [
    "**(0.5 points) Assignment question #1.2:** What is the minimum number of introductions required for the user `'137056623'` to reach any other user? "
   ]
  },
  {
   "cell_type": "code",
   "execution_count": 223,
   "metadata": {
    "collapsed": false
   },
   "outputs": [
    {
     "name": "stdout",
     "output_type": "stream",
     "text": [
      "Using 10 introductions, '137056623' can reach anyone in the network\n"
     ]
    }
   ],
   "source": [
    "no_hops = max([len(nx.shortest_path(G, source = '137056623', target = x)) - 1 for x in G.nodes()])\n",
    "print \"Using %d introductions, '137056623' can reach anyone in the network\" % no_hops"
   ]
  },
  {
   "cell_type": "markdown",
   "metadata": {},
   "source": [
    "**(0.5 points) Assignment question #1.3:** What is the minimum number of introductions required for the any user to reach any other user in the  network?  \n",
    "\n",
    "**HINT:** study the `shortest_path_length` method description."
   ]
  },
  {
   "cell_type": "code",
   "execution_count": 224,
   "metadata": {
    "collapsed": false
   },
   "outputs": [
    {
     "name": "stdout",
     "output_type": "stream",
     "text": [
      "Using 18 introductions, any user can reach any other user in the network\n"
     ]
    }
   ],
   "source": [
    "# shortest path from any user to any other user\n",
    "no_hops = max(max([len(nx.shortest_path(G, source = s, target = x)) - 1 for x in G.nodes()]) for s in G.nodes())\n",
    "print \"Using %d introductions, any user can reach any other user in the network\" % no_hops"
   ]
  },
  {
   "cell_type": "markdown",
   "metadata": {},
   "source": [
    "**(0.5 points) Assignment question #1.4:** The _diameter_ $d$ of a graph is the maximum eccentricity of any node, $d = \\max_{v} \\epsilon(v)$. Give two ways to compute the diameter of the social network G (one using the calculated eccentricity values calculated earlier and another one using the dedicated `networkx` function)."
   ]
  },
  {
   "cell_type": "code",
   "execution_count": 225,
   "metadata": {
    "collapsed": false
   },
   "outputs": [
    {
     "name": "stdout",
     "output_type": "stream",
     "text": [
      "1. Using eccentricity values, diameter of the graph d = 18\n",
      "2. Using dedicated networkx function, diameter of the graph d = 18\n"
     ]
    }
   ],
   "source": [
    "ec = nx.eccentricity(G)\n",
    "print \"1. Using eccentricity values, diameter of the graph d = %d\"%max(ec.values())\n",
    "print \"2. Using dedicated networkx function, diameter of the graph d = %d\"%nx.diameter(G)"
   ]
  },
  {
   "cell_type": "markdown",
   "metadata": {},
   "source": [
    "**(0.5 points) Assignment question #1.5:** Determine ALL most central node(s) and ALL most central edge(s), with respect to the node and edge betweenes centrality. Remember that two or more nodes/edges may have the same centrality score and they ALL need to be determined for this assignment.  \n",
    "**Hint:** `networkx` already contains dedicated function to compute node and edge betweenness centrality scores."
   ]
  },
  {
   "cell_type": "code",
   "execution_count": 226,
   "metadata": {
    "collapsed": false
   },
   "outputs": [
    {
     "name": "stdout",
     "output_type": "stream",
     "text": [
      "All most central node(s) = ['54837666']\n",
      "All most central edge(s) = [('2260701138', '54837666')]\n"
     ]
    }
   ],
   "source": [
    "def get_keylist_max_val(dict):\n",
    "    '''get the list of keys with the max value'''\n",
    "    return [key for key in dict.keys() if dict.get(key) == max(dict.values())]\n",
    "\n",
    "node_betw_cen = nx.betweenness_centrality(G) #dictionary of nodes with betweenness centrality as the value\n",
    "print \"All most central node(s) = {}\".format(get_keylist_max_val(node_betw_cen))\n",
    "\n",
    "edge_betw_cen = nx.edge_betweenness_centrality(G) #dictionary of edges with betweenness centrality as the value\n",
    "print \"All most central edge(s) = {}\".format(get_keylist_max_val(edge_betw_cen))"
   ]
  },
  {
   "cell_type": "markdown",
   "metadata": {},
   "source": [
    "2. Assignment questions related to the tutorial 2: constructing a network from real data\n",
    "---"
   ]
  },
  {
   "cell_type": "markdown",
   "metadata": {},
   "source": [
    "**(1 point) Assignment question #2.1:** Starting from [the same bzipped JSON twitter dataset](http://rizoiu.eu/sna-lab-ipython/twitter-dump.json.bz2), construct the social graph based on the reply relation. Analyse (as shown in *Step 3*) which fields you require and give the Python code necessary for constructing the network.  \n",
    "**NOTE:** all the subsequent questions of this subsection are to be solved on the graph constructed at this question."
   ]
  },
  {
   "cell_type": "markdown",
   "metadata": {},
   "source": [
    "\"# cell for analysis of required fields\""
   ]
  },
  {
   "cell_type": "code",
   "execution_count": 227,
   "metadata": {
    "collapsed": false
   },
   "outputs": [],
   "source": [
    "# code for question.\n",
    "DG = nx.DiGraph()\n",
    "# open the bzipped dataset\n",
    "import bz2\n",
    "reader = bz2.BZ2File(\"./twitter-dump.json.bz2\", mode=\"r\")\n",
    "\n",
    "import json\n",
    "# go line by line (ergo, tweet by tweet)\n",
    "for line in reader:\n",
    "    # load the JSON object from the read line\n",
    "    jobj = json.loads(line)\n",
    "    \n",
    "    # if the current tweet is a reply\n",
    "    if jobj[u'in_reply_to_user_id'] is not None:\n",
    "        # determine user id\n",
    "        user_id = jobj[u'user'][u'id']\n",
    "        if isinstance(user_id, dict):\n",
    "            user_id = user_id.values()[0]\n",
    "        user_id = int(user_id)\n",
    "\n",
    "        # determine the reply user id\n",
    "        reply_user_id = jobj[u'in_reply_to_user_id']\n",
    "        if isinstance(reply_user_id, dict):\n",
    "            reply_user_id = reply_user_id.values()[0]\n",
    "        reply_user_id = int(reply_user_id)\n",
    "\n",
    "        # add the two nodes in the graph, if not already there\n",
    "        if user_id not in DG:  DG.add_node(user_id)\n",
    "        if reply_user_id not in DG:  DG.add_node(reply_user_id)\n",
    "        DG.add_edge(user_id, reply_user_id)"
   ]
  },
  {
   "cell_type": "markdown",
   "metadata": {},
   "source": [
    "**(1 point) Assignment question #2.2:** How many nodes and edges do you have in the resulted reply graph?"
   ]
  },
  {
   "cell_type": "code",
   "execution_count": 228,
   "metadata": {
    "collapsed": false
   },
   "outputs": [
    {
     "name": "stdout",
     "output_type": "stream",
     "text": [
      "Number of nodes: 735\n",
      "Number of edges: 622\n"
     ]
    }
   ],
   "source": [
    "print \"Number of nodes: %d\" % DG.number_of_nodes()\n",
    "print \"Number of edges: %d\" % DG.number_of_edges()"
   ]
  },
  {
   "cell_type": "markdown",
   "metadata": {},
   "source": [
    "**(1 point) Assignment question #2.3:** Using the `networkx` functions, filter the social graph to its *giant connected component*. \n",
    "Calculate for this new graph: i) the number of nodes, ii) the number of edges, iii) the radius and iv) the diameter.  \n",
    "**HINT:** You can either construct a new graph which contains only the nodes and edges in the *giant connected component* or you can remove from your initial graph all the nodes and edges belonging to the other connected components.  \n",
    "**NOTE:** This question should be solved on the UNDIRECTED version of the social graph. Considering that *DG* is the constructed directed networkx graph, do:"
   ]
  },
  {
   "cell_type": "code",
   "execution_count": 229,
   "metadata": {
    "collapsed": false
   },
   "outputs": [
    {
     "name": "stdout",
     "output_type": "stream",
     "text": [
      "For the greatest connected component:\n",
      "\tthe number of nodes:\t465\n",
      "\tthe number of edges:\t467\n",
      "\tthe radius:\t3\n",
      "\tthe diameter:\t6\n"
     ]
    }
   ],
   "source": [
    "# create an undirected copy of our graph\n",
    "G = DG.to_undirected()\n",
    "\n",
    "# extract the greatest connected component\n",
    "gcc = max(nx.connected_component_subgraphs(G), key=len)\n",
    "\n",
    "print \"For the greatest connected component:\"\n",
    "print \"\\tthe number of nodes:\\t%d\"%gcc.number_of_nodes()\n",
    "print \"\\tthe number of edges:\\t%d\"%gcc.number_of_edges()\n",
    "print \"\\tthe radius:\\t%d\"%nx.radius(gcc)\n",
    "print \"\\tthe diameter:\\t%d\"%nx.diameter(gcc)\n"
   ]
  },
  {
   "cell_type": "markdown",
   "metadata": {},
   "source": [
    "**(1 point) Assignment question #2.4:** This assignment question is to calculate iterativelly the basic form of the PageRank on the reply social graph constructed previously. Considering that *DG* is the constructed directed networkx graph constructed at the **Assignment questions #2.1**. We will construct the *PageRank* on the largest [*weakly connected component*](http://en.wikipedia.org/wiki/Connectivity_%28graph_theory%29). This is constructed as shown hereafter.\n",
    "Your job is to compute the PageRank, using the algorithm provided in the tutorial and exemplified in the lecture notes.\n",
    "Use a maximum of $maxiter = 20$ iterations."
   ]
  },
  {
   "cell_type": "code",
   "execution_count": 230,
   "metadata": {
    "collapsed": false
   },
   "outputs": [
    {
     "data": {
      "text/plain": [
       "{34359954: 0.004483870967741935,\n",
       " 34507480: 0.20229379652869947,\n",
       " 153694176: 0.0026774193548387095,\n",
       " 217733121: 0.0006451612903225808,\n",
       " 261289587: 0.000870967741935484,\n",
       " 271239188: 0.0009925558321466847,\n",
       " 336555582: 0.0010967741935483872,\n",
       " 1188471348: 0.0009925558321466847,\n",
       " 1456140289: 0.0006451612903225808,\n",
       " 2502937470: 0.0009925558321466847}"
      ]
     },
     "execution_count": 230,
     "metadata": {},
     "output_type": "execute_result"
    }
   ],
   "source": [
    "import operator\n",
    "from itertools import islice\n",
    "\n",
    "# get the list of weakly connected components, sorted by size\n",
    "omp_List = sorted(nx.weakly_connected_component_subgraphs(DG), key = len, reverse=True)\n",
    "\n",
    "# we want the first component, the biggest\n",
    "WCDG = omp_List[0]\n",
    "\n",
    "# get the number of nodes of the graph\n",
    "n = len(WCDG.nodes())\n",
    "\n",
    "# initialize the PR at moment 0 using a dictionary of pairs {node : score}\n",
    "PR = {}\n",
    "for node in WCDG.nodes():\n",
    "    PR[node] = 1.0/n\n",
    "\n",
    "# initialize variables\n",
    "no_iter=0     # current iteration\n",
    "iter_max=20   # maximum number of iterations\n",
    "d = 0.7       # decay factor\n",
    "\n",
    "while no_iter < iter_max: # iterate until maximum iterations\n",
    "    # at each iteration, we compute a new version of the PageRank for each node\n",
    "    new_PR = {}\n",
    "    no_iter = no_iter + 1 #k\n",
    "\n",
    "    # calculate the PageRank of each node (`new_PR[node]`), based on the previous values (`PR[other_nodes]`)\n",
    "    for node in WCDG.nodes():\n",
    "        ## code for calculating new_PR[node].\n",
    "        new_PR[node] = (1.0 - d) / n # initialize new PR\n",
    "        B_p = WCDG.predecessors(node) # set of back-links towards page p\n",
    "        \n",
    "        for b in B_p:\n",
    "            N_b = len(WCDG.successors(b)) # number of outgoing links from page b\n",
    "            new_PR[node] += d * (1.0/N_b) * PR[b] # pagerank calculation\n",
    "\n",
    "    # at the end of iteration, replace old values of PR with the new ones\n",
    "    PR = new_PR\n",
    "\n",
    "# even if a dictionary is not sorted (it is just a collection) we sort it so that the next\n",
    "# printing at the screen shows some interesting values\n",
    "sorted_PR = sorted(PR.iteritems(), key=operator.itemgetter(1), reverse=True)\n",
    "\n",
    "# and print it out the first 10 elements\n",
    "dict(islice(sorted_PR, 10))"
   ]
  },
  {
   "cell_type": "markdown",
   "metadata": {},
   "source": [
    "3. Assignment questions related to the tutorial 3: sentiment analysis\n",
    "---"
   ]
  },
  {
   "cell_type": "markdown",
   "metadata": {},
   "source": [
    "The following code is necessary to define the sentiment scoring function that was constructed in the tutorial. Run this before continuing with the assignments:"
   ]
  },
  {
   "cell_type": "code",
   "execution_count": 242,
   "metadata": {
    "collapsed": false
   },
   "outputs": [],
   "source": [
    "from nltk.stem.wordnet import WordNetLemmatizer\n",
    "import nltk\n",
    "\n",
    "# define the lemmatizer\n",
    "lmtzr = WordNetLemmatizer()\n",
    "\n",
    "# read the positive and negative lexicon in lists of words\n",
    "positive_words = [lmtzr.lemmatize(line.strip().decode('utf-8')) for line in open('sentiment-lexicon-positive-words.txt')]\n",
    "negative_words = [lmtzr.lemmatize(line.strip().decode('utf-8')) for line in open('sentiment-lexicon-negative-words.txt')]\n",
    "\n",
    "# define the function that computes the sentiment score\n",
    "def get_sentiment_score(text):\n",
    "    # tokenize and lemmatize the current tweet\n",
    "    tokens = nltk.word_tokenize(text)\n",
    "    tweet = [lmtzr.lemmatize(x.lower()) for x in tokens if len(x) >= 3]\n",
    "\n",
    "    # calculate the sentiment score\n",
    "    score = 0\n",
    "    for word in tweet:\n",
    "        if word in positive_words:\n",
    "            score = score + 1\n",
    "        if word in negative_words:\n",
    "            score = score - 1\n",
    "    return score"
   ]
  },
  {
   "cell_type": "markdown",
   "metadata": {},
   "source": [
    "**(1 point) Assignment question #3.1:** Use the `get_sentiment_score(text)`, the sentiment scoring function defined before, and calculate the sentiment polarity of the tweets in the Twitter JSON dataset used in [tutorial 2](http://nbviewer.ipython.org/url/rizoiu.eu/sna-lab-ipython/tutorial-2-construct-network-real-twitter-dump.ipynb). \n",
    "The dataset is [available to download here](http://rizoiu.eu/sna-lab-ipython/twitter-dump.json.bz2). \n",
    "Print the text of the 10 most positive and the 10 most negative tweets. \n",
    "We consider that a tweet $t_1$ is more positive than another tweet $t_2$ when score of the former is higher than the score of the latter ($score(t_1) > score(t_2)$). \n",
    "Similarly, a tweet $t_1$ is more negative than $t_2$ when $score(t_1) < score(t_2)$.  \n",
    "**HINT:** Load the tweets one by one as seen in tutorial 2 and extract the text, which is found in the field *text* of each tweet."
   ]
  },
  {
   "cell_type": "code",
   "execution_count": 266,
   "metadata": {
    "collapsed": false
   },
   "outputs": [
    {
     "name": "stdout",
     "output_type": "stream",
     "text": [
      "The 10 most positive tweets: \n",
      "\n",
      "1 :\tIt's perfect, Amazing, fantastic, WOW!💜I love u💕 http://t.co/dKDHDhdOgF\n",
      "Please follow me gorgeous!👑@ArianaGrande \n",
      "#WatchProblemOnVEVO x56 \n",
      "\n",
      "2 :\tRT @PerrieAndSmile: It's perfect, Amazing, fantastic, WOW!💜I love u💕 http://t.co/dKDHDhdOgF\n",
      "Please follow me gorgeous!👑@ArianaGrande \n",
      "#Watc… \n",
      "\n",
      "3 :\tWatch @ArianaGrande and @iggyazalea Problem Official music video here 👩💭🎬 http://t.co/hSpUIH9eK6 love love love love love love love 💖💖💖💖😂 \n",
      "\n",
      "4 :\tIt's perfect, Amazing, fantastic, WOW!💜I love u💕 http://t.co/dKDHDhdOgF\n",
      "Please follow me gorgeous!👑@ArianaGrande \n",
      "#WatchProblemOnVEVO x88 \n",
      "\n",
      "5 :\tIt's perfect, Amazing, fantastic, WOW!💜I love u💕 http://t.co/dKDHDhdOgF\n",
      "Please follow me gorgeous!👑@ArianaGrande \n",
      "#WatchProblemOnVEVO x87 \n",
      "\n",
      "6 :\tRT @ArianaGrande: glad u love it.....👩 love u more “@indiggynado: @ArianaGrande it is PERFECT , i love you 💕\n",
      "http://t.co/ji6ETHIFuf #WatchP… \n",
      "\n",
      "7 :\tOMFG! I LOVE IT SO MUCH! LOVE HER!! I can't say how happy i am!! @ArianaGrande amazing http://t.co/oms6SY7yeE \n",
      "\n",
      "8 :\tWow!  @ArianaGrande You did a great job! Im so proud of you loves!  http://t.co/dSkFOaAVat  #WatchProblemOnVEVO\n",
      "Guys you should watch it! x3 \n",
      "\n",
      "9 :\tWow!  @ArianaGrande You did a great job! Im so proud of you loves!  http://t.co/dSkFOaAVat  #WatchProblemOnVEVO\n",
      "Guys you should watch it! x2 \n",
      "\n",
      "10 :\tWow!  @ArianaGrande You did a great job! Im so proud of you loves!  http://t.co/dSkFOaAVat  #WatchProblemOnVEVO\n",
      "Guys you should watch it! x6 \n",
      "\n",
      "11 :\tWow!  @ArianaGrande You did a great job! Im so proud of you loves!  http://t.co/dSkFOaAVat  #WatchProblemOnVEVO\n",
      "Guys you should watch it! x4 \n",
      "\n",
      "---------------------------------------------------------------------------------------\n",
      "\n",
      "The 10 most negative tweets: \n",
      "\n",
      "1 :\t@ArianaGrande Problem slays my life. Problem slays your life. Problem over everything. Problem slays. https://t.co/b0jyBCGpXn \n",
      "\n",
      "2 :\tAriana Grande - Problem ft. Iggy Azalea: http://t.co/RJioyyg2ZK  Attention! lets try to get problem to break the record #WatchProblemOnVEVO \n",
      "\n",
      "3 :\tRT @_ilysm_Ari: ARIANATORS RT AND SPREAD THE WORLD\n",
      "Problem broke an iTunes record time to break a vevo record. #WatchProblemOnVEVO https://… \n",
      "\n",
      "4 :\tTWEET THE FUCKING LINK WITH THE HASHTAG. NO ONES GONNA FUCKING GOOGLE THAT SHIT TO FIND IT. http://t.co/Ktrjp69N7E #WatchProblemOnVEVO \n",
      "\n",
      "5 :\tRT @zaynmgirl: one less problem without ya I got one less problem without ya I got one less problem without ya https://t.co/0tLoIbAVcc \n",
      "\n",
      "6 :\tAriana Grande - Problem ft. Iggy Azalea omg I died when I saw it amazingg!! #problem  http://t.co/4RXDEqqb7w \n",
      "\n",
      "7 :\tI hate those comments that are negative in Ariana's #problemvideo FUCK OFF!! http://t.co/cl6hTuPRLr \n",
      "\n",
      "8 :\t@ArianaGrande I'm addicted to the video problem, you can follow me? Pls realize my dream! http://t.co/j4IefKwUmw #WatchProblemOnVEVO 198 \n",
      "\n",
      "9 :\t@ArianaGrande I'm addicted to the video problem, you can follow me? Pls realize my dream! http://t.co/j4IefKwUmw #WatchProblemOnVEVO 197 \n",
      "\n",
      "10 :\tRT @floralbocabows: there's 15.4million of us &amp; we only need 19.3million views to break the record, it's not that hard if everyone tries ht… \n",
      "\n",
      "11 :\tAriana Grande - Problem ft. Iggy Azalea: http://t.co/IAjXCBemJH shout out to the finest and baddest bitch in the game !!! God damn ;) \n",
      "\n"
     ]
    }
   ],
   "source": [
    "# use reader from part 2\n",
    "reader = bz2.BZ2File(\"./twitter-dump.json.bz2\", mode=\"r\")\n",
    "tweet_score = {} # create a dictionary containing tweet and \n",
    "                # its correspoding sentiment score\n",
    "for line in reader:\n",
    "    jobj = json.loads(line)\n",
    "    \n",
    "    #the tweet\n",
    "    tweet = jobj['text']\n",
    "    if tweet is not None:\n",
    "        tweet_score[tweet] = get_sentiment_score(tweet)\n",
    "\n",
    "sorted_tweet = sorted(tweet_score.iteritems(), key=operator.itemgetter(1), reverse=True)\n",
    "\n",
    "print \"The 10 most positive tweets: \\n\"\n",
    "# top_ten = dict(islice(sorted_tweet, 10))\n",
    "\n",
    "# i = 0\n",
    "# for tweet in top_ten.keys():\n",
    "#     i+=1\n",
    "#     print i,\":\\t\",tweet,\"\\n\"\n",
    "\n",
    "##   OR\n",
    "    \n",
    "for i in range(11):\n",
    "    print i+1,\":\\t\", sorted_tweet[i][0],\"\\n\"\n",
    "\n",
    "print \"-----------------------------\"*3\n",
    "    \n",
    "print \"\\nThe 10 most negative tweets: \\n\"\n",
    "# bottom_ten = dict(islice(sorted_tweet, len(sorted_tweet)-10, len(sorted_tweet)+1))\n",
    "# i = 0\n",
    "# for tweet in bottom_ten.keys():\n",
    "#     i+=1\n",
    "#     print i,\":\\t\",tweet,\"\\n\"\n",
    "\n",
    "reverse_sorted_tweet = sorted(tweet_score.iteritems(), key=operator.itemgetter(1), reverse=False)\n",
    "# last_ten = dict(islice(reverse_sorted_tweet, 10))\n",
    "# i = 0\n",
    "# for tweet in last_ten.keys():\n",
    "#     i+=1\n",
    "#     print i,\":\\t\",tweet,\"\\n\"\n",
    "\n",
    "##    OR\n",
    "    \n",
    "for i in range(11):\n",
    "    print i+1,\":\\t\", reverse_sorted_tweet[i][0],\"\\n\""
   ]
  },
  {
   "cell_type": "markdown",
   "metadata": {},
   "source": [
    "**(1 point) Assignment question #3.2:** Based on the scores calculated in **Assignment #3.1**, determine the 3 most positive users. A user $u_1$ is more positive than a user $u_2$ if the dataset contains more positive tweets emitted by $u_1$ than tweets emitted by $u_2$. Formally:\n",
    "$$ positivity(u_1) > positivity(u_2) \\iff \\left| \\left\\{ t \\, \\middle| \\, author(t) = u_1 \\wedge score(t) > 0 \\right\\} \\right| > \\left| \\left\\{ t \\, \\middle| \\, author(t) = u_2 \\wedge score(t) > 0 \\right\\} \\right|$$"
   ]
  },
  {
   "cell_type": "code",
   "execution_count": 265,
   "metadata": {
    "collapsed": false
   },
   "outputs": [
    {
     "name": "stdout",
     "output_type": "stream",
     "text": [
      "The 3 most positive users: \n",
      "\n",
      "1 :  1243188937\n",
      "2 :  1601537689\n",
      "3 :  2229663685\n"
     ]
    }
   ],
   "source": [
    "reader = bz2.BZ2File(\"./twitter-dump.json.bz2\", mode=\"r\")\n",
    "user_score = {} # create a dictionary containing user and \n",
    "                # their correspoding positivity score\n",
    "for line in reader:\n",
    "    jobj = json.loads(line)\n",
    "    \n",
    "    # determine user id\n",
    "    user_id = jobj[u'user'][u'id']\n",
    "    if isinstance(user_id, dict):\n",
    "        user_id = user_id.values()[0]\n",
    "    user_id = int(user_id)\n",
    "    \n",
    "    #the tweet\n",
    "    tweet = jobj['text']\n",
    "    if tweet is not None and get_sentiment_score(tweet)>0: # for each positive tweet\n",
    "        if user_id not in user_score:\n",
    "            user_score[user_id] = 1 # initialise user with a score of 1\n",
    "        else:\n",
    "            user_score[user_id] += 1 # increase existing user score by 1\n",
    "\n",
    "# sort the users by score\n",
    "sorted_users = sorted(user_score.iteritems(), key=operator.itemgetter(1), reverse=True)\n",
    "\n",
    "print \"The 3 most positive users: \\n\"\n",
    "# top_three_users = dict(islice(sorted_users, 3))\n",
    "\n",
    "# i = 0\n",
    "# for userid in top_three_users.keys():\n",
    "#     i+=1\n",
    "#     print i,\":\\t\",userid,user_score[userid],\"\\n\"\n",
    "    \n",
    "for i in range(3):\n",
    "    print i+1,\": \", sorted_users[i][0]"
   ]
  },
  {
   "cell_type": "markdown",
   "metadata": {},
   "source": [
    "**(1 point) Assignment question #3.3:** \n",
    "We have discussed earlier that our system is fragile to negations: it will score the expression *not beautiful* as positive because it only detects the word beautiful as positive. \n",
    "More generally, we consider that the token **not** changes the polarity of a given token: **not beautiful** becomes negative, while **not bad** becomes positive.  \n",
    "Modify the function `get_sentiment_score(text)` to detect the changes of polarity due to the token **not**."
   ]
  },
  {
   "cell_type": "code",
   "execution_count": 270,
   "metadata": {
    "collapsed": false
   },
   "outputs": [
    {
     "name": "stdout",
     "output_type": "stream",
     "text": [
      "2\n"
     ]
    }
   ],
   "source": [
    "# define the function that computes the sentiment score\n",
    "def get_polar_sentiment_score(text):\n",
    "    # tokenize and lemmatize the current tweet\n",
    "    tokens = nltk.word_tokenize(text)\n",
    "    tweet = [lmtzr.lemmatize(x.lower()) for x in tokens if len(x) >= 3]\n",
    "\n",
    "    # calculate the sentiment score\n",
    "    score = 0\n",
    "    check_not = 0\n",
    "    for word in tweet:\n",
    "        if word == 'not':\n",
    "            check_not = 1\n",
    "        if word in positive_words:\n",
    "            if check_not == 1:\n",
    "                score -= 1\n",
    "                check_not = 0\n",
    "            else:\n",
    "                score += 1\n",
    "        if word in negative_words:\n",
    "            if check_not == 1:\n",
    "                score += 1\n",
    "                check_not = 0\n",
    "            else:\n",
    "                score -= 1\n",
    "    return score\n",
    "\n",
    "# print get_polar_sentiment_score(\"not beautiful beautiful great not bad\")"
   ]
  },
  {
   "cell_type": "markdown",
   "metadata": {},
   "source": [
    "Bonus assignments questions\n",
    "---\n",
    "Bonus assignment questions earn you extra marks if you solve this assignment correctly, no penalty is inflicted if you do not solve it. \n",
    "Note that the total grade of SMA assignments cannot exceed 10 points, therefore the bonus point can only be used to compensate for another question which you did not solve correctly."
   ]
  },
  {
   "cell_type": "markdown",
   "metadata": {},
   "source": [
    "**(0.25 additional points) Bonus question #1.** \n",
    "Based on the scores calculated in **Assignment #3.1**, plot the temporal evolution of the counts of positive and negative tweets. The date a tweet was emitted is found in the field *created_at*. \n",
    "Divide the temporal extent of your dataset into 100 timeslices. \n",
    "The temporal extent of the dataset is from the creation date of the first tweet to the creation date of the last tweet. \n",
    "Count how many positive and how many negative tweets you have in each timeslice. \n",
    "Plot these counts on a graphic resembling this one:  \n",
    "![caption](./desired-plot.png)  \n",
    "**HINT:** the graphic above is not based on real data. Your actual curves might **NOT** look like this one. Its purpose is just to show you the expected form of the graphic."
   ]
  },
  {
   "cell_type": "code",
   "execution_count": null,
   "metadata": {
    "collapsed": false
   },
   "outputs": [],
   "source": [
    "# code or answer for question. In case of plain text answer, change the type of cell to \"Raw Text\" using the toolbar."
   ]
  },
  {
   "cell_type": "markdown",
   "metadata": {},
   "source": [
    "**(0.25 additional points) Bonus question #2: Polarized communities** We want to know if there are polarized communities in our social graph. Are there closely linked groups of users who have similar sentiment polarities? We calculate the sentiment polarity of a user as the numbre of positive tweets emitted, from which we substract the number of negative tweets. Formally:\n",
    "$$sentiment\\_polarity(u) = \\left| \\left\\{ t \\, \\middle| \\, author(t) = u \\wedge score(t) > 0 \\right\\} \\right| - \\left| \\left\\{ t \\, \\middle| \\, author(t) = u \\wedge score(t) < 0 \\right\\} \\right| \\enspace.$$  \n",
    "To visually detect the polarized communities, we want to plot the same graph as in [tutorial 1](http://nbviewer.ipython.org/url/rizoiu.eu/sna-lab-ipython/tutorial-1-construct-social-graph.ipynb) at *Step 3*, but with the colors of nodes representing their polarity: `blue` for a negative polarity and `red` for a positive polarity. \n",
    "Are nodes colored similarly clustered close together?"
   ]
  },
  {
   "cell_type": "code",
   "execution_count": null,
   "metadata": {
    "collapsed": false
   },
   "outputs": [],
   "source": [
    "# code or answer for question. In case of plain text answer, change the type of cell to \"Raw Text\" using the toolbar."
   ]
  },
  {
   "cell_type": "code",
   "execution_count": null,
   "metadata": {
    "collapsed": false
   },
   "outputs": [],
   "source": []
  }
 ],
 "metadata": {
  "kernelspec": {
   "display_name": "Python 2",
   "language": "python",
   "name": "python2"
  },
  "language_info": {
   "codemirror_mode": {
    "name": "ipython",
    "version": 2
   },
   "file_extension": ".py",
   "mimetype": "text/x-python",
   "name": "python",
   "nbconvert_exporter": "python",
   "pygments_lexer": "ipython2",
   "version": "2.7.12"
  }
 },
 "nbformat": 4,
 "nbformat_minor": 0
}

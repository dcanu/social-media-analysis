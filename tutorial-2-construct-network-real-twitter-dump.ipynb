{
 "cells": [
  {
   "cell_type": "markdown",
   "metadata": {},
   "source": [
    "Tutorial 2. Constructing the social network from a real-life Twitter JSON dump. A big network.\n",
    "==="
   ]
  },
  {
   "cell_type": "markdown",
   "metadata": {},
   "source": [
    "2.1 Constructing the social network from JSON data\n",
    "---"
   ]
  },
  {
   "cell_type": "markdown",
   "metadata": {},
   "source": [
    "The dataset used in [tutorial 1](http://nbviewer.ipython.org/url/rizoiu.eu/sna-lab-ipython/tutorial-1-construct-social-graph.ipynb) represents a pre-processed version of the described Twitter dataset.\n",
    "More precisely, all the tweets associated with the aforementioned video were crawled from Twitter.\n",
    "The _retweet_ and the _reply_ relations were used to construct the complete graph.\n",
    "Users with an in-degree less than 3 were filtered from the network and only the biggest connected component was retained."
   ]
  },
  {
   "cell_type": "markdown",
   "metadata": {},
   "source": [
    "In the first part of this tutorial, you will be guided towards how to perform similar operations starting from the raw Twitter dump data."
   ]
  },
  {
   "cell_type": "markdown",
   "metadata": {},
   "source": [
    "*Step 1:* [Download the dataset](http://rizoiu.eu/sna-lab-ipython/twitter-dump.json.bz2) containing the tweet data in JSON format. \n",
    "The data is BZIP2 archived.\n",
    "Each line in the file corresponds to a tweet."
   ]
  },
  {
   "cell_type": "markdown",
   "metadata": {},
   "source": [
    "*Step 2:* Structure of the dataset  \n",
    "The Twitter API provides the tweet data in the [JSON format](http://en.wikipedia.org/wiki/JSON).\n",
    "Each tweet is described by a JSON document.\n",
    "Let us inspect the first JSON document in the file:"
   ]
  },
  {
   "cell_type": "code",
   "execution_count": 4,
   "metadata": {
    "collapsed": false
   },
   "outputs": [
    {
     "name": "stdout",
     "output_type": "stream",
     "text": [
      "{\n",
      "    \"YoutubeID\": \"iS1g8G_njx8\",\n",
      "    \"_id\": {\n",
      "        \"$oid\": \"5398013792ccfc23ee6f74c7\"\n",
      "    },\n",
      "    \"contributors\": null,\n",
      "    \"coordinates\": null,\n",
      "    \"created_at\": {\n",
      "        \"$date\": \"2014-05-30T22:55:45.000+0200\"\n",
      "    },\n",
      "    \"entities\": {\n",
      "        \"hashtags\": [\n",
      "            {\n",
      "                \"indices\": [\n",
      "                    70,\n",
      "                    89\n",
      "                ],\n",
      "                \"text\": \"WatchProblemOnVEVO\"\n",
      "            },\n",
      "            {\n",
      "                \"indices\": [\n",
      "                    90,\n",
      "                    103\n",
      "                ],\n",
      "                \"text\": \"problemvideo\"\n",
      "            }\n",
      "        ],\n",
      "        \"symbols\": [],\n",
      "        \"urls\": [\n",
      "            {\n",
      "                \"display_url\": \"youtu.be/iS1g8G_njx8\",\n",
      "                \"expanded_url\": \"http://youtu.be/iS1g8G_njx8\",\n",
      "                \"indices\": [\n",
      "                    42,\n",
      "                    64\n",
      "                ],\n",
      "                \"url\": \"http://t.co/ji6ETHIFuf\"\n",
      "            }\n",
      "        ],\n",
      "        \"user_mentions\": [\n",
      "            {\n",
      "                \"id\": 34507480,\n",
      "                \"id_str\": \"34507480\",\n",
      "                \"indices\": [\n",
      "                    3,\n",
      "                    16\n",
      "                ],\n",
      "                \"name\": \"Ariana Grande\",\n",
      "                \"screen_name\": \"ArianaGrande\"\n",
      "            }\n",
      "        ]\n",
      "    },\n",
      "    \"favorite_count\": 0,\n",
      "    \"geo\": null,\n",
      "    \"id\": {\n",
      "        \"$numberLong\": \"472481511628111872\"\n",
      "    },\n",
      "    \"in_reply_to_screen_name\": null,\n",
      "    \"in_reply_to_status_id\": null,\n",
      "    \"in_reply_to_status_id_str\": null,\n",
      "    \"in_reply_to_user_id\": null,\n",
      "    \"in_reply_to_user_id_str\": null,\n",
      "    \"lang\": \"en\",\n",
      "    \"place\": null,\n",
      "    \"retweet_count\": 0,\n",
      "    \"retweeted_status\": {\n",
      "        \"contributors\": null,\n",
      "        \"coordinates\": null,\n",
      "        \"created_at\": {\n",
      "            \"$date\": \"2014-05-30T22:05:05.000+0200\"\n",
      "        },\n",
      "        \"entities\": {\n",
      "            \"hashtags\": [\n",
      "                {\n",
      "                    \"indices\": [\n",
      "                        52,\n",
      "                        71\n",
      "                    ],\n",
      "                    \"text\": \"WatchProblemOnVEVO\"\n",
      "                },\n",
      "                {\n",
      "                    \"indices\": [\n",
      "                        72,\n",
      "                        85\n",
      "                    ],\n",
      "                    \"text\": \"problemvideo\"\n",
      "                }\n",
      "            ],\n",
      "            \"symbols\": [],\n",
      "            \"urls\": [\n",
      "                {\n",
      "                    \"display_url\": \"youtu.be/iS1g8G_njx8\",\n",
      "                    \"expanded_url\": \"http://youtu.be/iS1g8G_njx8\",\n",
      "                    \"indices\": [\n",
      "                        24,\n",
      "                        46\n",
      "                    ],\n",
      "                    \"url\": \"http://t.co/ji6ETHIFuf\"\n",
      "                }\n",
      "            ],\n",
      "            \"user_mentions\": []\n",
      "        },\n",
      "        \"favorite_count\": 22358,\n",
      "        \"geo\": null,\n",
      "        \"id\": {\n",
      "            \"$numberLong\": \"472468761396932608\"\n",
      "        },\n",
      "        \"in_reply_to_screen_name\": null,\n",
      "        \"in_reply_to_status_id\": null,\n",
      "        \"in_reply_to_status_id_str\": null,\n",
      "        \"in_reply_to_user_id\": null,\n",
      "        \"in_reply_to_user_id_str\": null,\n",
      "        \"lang\": \"en\",\n",
      "        \"place\": null,\n",
      "        \"retweet_count\": 22872,\n",
      "        \"source\": \"<a href=\\\"http://twitter.com/download/iphone\\\" rel=\\\"nofollow\\\">Twitter for iPhone</a>\",\n",
      "        \"text\": \"here it is y'all ...... http://t.co/ji6ETHIFuf #WatchProblemOnVEVO #problemvideo\",\n",
      "        \"user\": {\n",
      "            \"created_at\": {\n",
      "                \"$date\": \"2009-04-23T04:56:31.000+0200\"\n",
      "            },\n",
      "            \"description\": \"working on a new album for my loves\",\n",
      "            \"favourites_count\": 9522,\n",
      "            \"followers_count\": 15483654,\n",
      "            \"friends_count\": 67815,\n",
      "            \"geo_enabled\": false,\n",
      "            \"id\": 34507480,\n",
      "            \"lang\": \"en\",\n",
      "            \"listed_count\": 39099,\n",
      "            \"location\": \"Honeymoon ave. \",\n",
      "            \"name\": \"Ariana Grande\",\n",
      "            \"profile_banner_url\": \"https://pbs.twimg.com/profile_banners/34507480/1399852554\",\n",
      "            \"protected\": false,\n",
      "            \"screen_name\": \"ArianaGrande\",\n",
      "            \"statuses_count\": 33736,\n",
      "            \"time_zone\": \"Pacific Time (US & Canada)\",\n",
      "            \"url\": \"http://smarturl.it/ArianaProblemiT\",\n",
      "            \"utc_offset\": -25200,\n",
      "            \"verified\": true\n",
      "        }\n",
      "    },\n",
      "    \"source\": \"<a href=\\\"http://twitter.com/download/iphone\\\" rel=\\\"nofollow\\\">Twitter for iPhone</a>\",\n",
      "    \"text\": \"RT @ArianaGrande: here it is y'all ...... http://t.co/ji6ETHIFuf #WatchProblemOnVEVO #problemvideo\",\n",
      "    \"user\": {\n",
      "        \"created_at\": {\n",
      "            \"$date\": \"2014-05-21T03:39:06.000+0200\"\n",
      "        },\n",
      "        \"description\": \"Rip Nanny\\u266111.11.13\\u2661\",\n",
      "        \"favourites_count\": 32,\n",
      "        \"followers_count\": 38,\n",
      "        \"friends_count\": 61,\n",
      "        \"geo_enabled\": false,\n",
      "        \"id\": {\n",
      "            \"$numberLong\": \"2556502655\"\n",
      "        },\n",
      "        \"lang\": \"en\",\n",
      "        \"listed_count\": 0,\n",
      "        \"location\": \"\",\n",
      "        \"name\": \"Ally\",\n",
      "        \"profile_banner_url\": \"https://pbs.twimg.com/profile_banners/2556502655/1401065330\",\n",
      "        \"protected\": false,\n",
      "        \"screen_name\": \"apetrakiann\",\n",
      "        \"statuses_count\": 51,\n",
      "        \"time_zone\": null,\n",
      "        \"url\": null,\n",
      "        \"utc_offset\": null,\n",
      "        \"verified\": false\n",
      "    }\n",
      "}\n"
     ]
    }
   ],
   "source": [
    "import bz2, json\n",
    "\n",
    "reader = bz2.BZ2File(\"./twitter-dump.json.bz2\", mode=\"r\")\n",
    "jobj = json.loads(reader.readline())\n",
    "\n",
    "print json.dumps(jobj, sort_keys=True, indent=4, separators=(',', ': '))"
   ]
  },
  {
   "cell_type": "markdown",
   "metadata": {},
   "source": [
    "The meaning of the different fields are described [here](https://dev.twitter.com/docs/platform-objects/tweets).\n",
    "Let's take a look at some of the most important fields for our application:\n",
    "* **created_at** - represents the date at each the tweet was emitted. Here: \"2014-05-30T22:55:45.000+0200\";\n",
    "* **text** - is the actual text of the tweet. Here: \"RT @ArianaGrande: here it is y'all ...... http://t.co/ji6ETHIFuf #WatchProblemOnVEVO #problemvideo\";\n",
    "* **user** - information about the user that emitted the tweet. The field that we will be using is **id**, the id of the user. Here: '2556502655';\n",
    "* **in_reply_to_user_id** - the id of the user to which this tweets replies to. Here: null, hence this tweet is not a reply;\n",
    "* **retweeted_status** - encloses the tweet that the current tweet retweets. Here: this tweet is a retweet;\n",
    "* **YoutubeID** - the id of the Youtube video that the tweet is connected to. The text of the tweet contains a(n) (shortened) URL towards this video. Here: 'iS1g8G_njx8'."
   ]
  },
  {
   "cell_type": "markdown",
   "metadata": {},
   "source": [
    "*Step 3:* Constructing the retweet graph  \n",
    "We will construct the retweet social graph as a directed graph. \n",
    "Nodes will be the users in our dataset (denoted by their user id).\n",
    "A directional edge will be placed between the users $u_1$ and $u_2$ ($u_1 \\longrightarrow u_2$) if and only if $u_1$ retweets $u_2$.\n",
    "More precisely, if a tweet exists in the dataset such that all of the following conditions are simultaneously fulfilled:\n",
    "* the **user.id** (the user emitting the tweet) is $u_1$;\n",
    "* the **retweeted_status** field exists;\n",
    "* the **retweeted_status.user.id** (the user emitting the retweeted tweet) is $u_2$."
   ]
  },
  {
   "cell_type": "markdown",
   "metadata": {},
   "source": [
    "Let us extract the needed information for the tweet above:"
   ]
  },
  {
   "cell_type": "code",
   "execution_count": 5,
   "metadata": {
    "collapsed": false
   },
   "outputs": [
    {
     "name": "stdout",
     "output_type": "stream",
     "text": [
      "User id: '2556502655'\n",
      "Retweeted user: '34507480'\n"
     ]
    }
   ],
   "source": [
    "user_id = jobj[u'user'][u'id']\n",
    "if isinstance(user_id, dict):\n",
    "    user_id = user_id.values()[0]\n",
    "user_id = int(user_id) #user_id is u1\n",
    "\n",
    "print \"User id: '%s'\" % user_id\n",
    "if jobj.has_key(u'retweeted_status'):\n",
    "    retweet_user_id = jobj[u'retweeted_status'][u'user'][u'id']\n",
    "    if isinstance(retweet_user_id, dict):\n",
    "        retweet_user_id = retweet_user_id.values()[0]\n",
    "    retweet_user_id = int(retweet_user_id) #retweet_user_id is u2\n",
    "    \n",
    "    print \"Retweeted user: '%s'\" % retweet_user_id\n",
    "else:\n",
    "    print \"Not retweeted\"\n"
   ]
  },
  {
   "cell_type": "markdown",
   "metadata": {},
   "source": [
    "Next step is to construct the `networkx` graph. Notice that the graph is directed.  \n",
    "**WARNING:** depending on the capabilities of your machine, this operation might take a few seconds to complete."
   ]
  },
  {
   "cell_type": "code",
   "execution_count": 6,
   "metadata": {
    "collapsed": false
   },
   "outputs": [],
   "source": [
    "import networkx as nx\n",
    "\n",
    "# open the bzipped dataset\n",
    "reader = bz2.BZ2File(\"./twitter-dump.json.bz2\", mode=\"r\")\n",
    "#  construct the networkx graph\n",
    "DG = nx.DiGraph()\n",
    "\n",
    "# go line by line (ergo, tweet by tweet)\n",
    "for line in reader:\n",
    "    # load the JSON object from the read line\n",
    "    jobj = json.loads(line)\n",
    "    \n",
    "    # if the current tweet is a retweet\n",
    "    if jobj.has_key(u'retweeted_status'):\n",
    "        # determine user id\n",
    "        user_id = jobj[u'user'][u'id']\n",
    "        if isinstance(user_id, dict):\n",
    "            user_id = user_id.values()[0]\n",
    "        user_id = int(user_id)\n",
    "    \n",
    "        # determine the retweeted user id\n",
    "        retweet_user_id = jobj[u'retweeted_status'][u'user'][u'id']\n",
    "        if isinstance(retweet_user_id, dict):\n",
    "            retweet_user_id = retweet_user_id.values()[0]\n",
    "        retweet_user_id = int(retweet_user_id)\n",
    "        \n",
    "        # add the two nodes in the graph, if not already there\n",
    "        if user_id not in DG:  DG.add_node(user_id)\n",
    "        if retweet_user_id not in DG:  DG.add_node(retweet_user_id)\n",
    "        DG.add_edge(user_id, retweet_user_id)"
   ]
  },
  {
   "cell_type": "markdown",
   "metadata": {},
   "source": [
    "Let us look at the dimensionality of the resulted network:"
   ]
  },
  {
   "cell_type": "code",
   "execution_count": 7,
   "metadata": {
    "collapsed": false
   },
   "outputs": [
    {
     "name": "stdout",
     "output_type": "stream",
     "text": [
      "Number of nodes: 4133\n",
      "Number of edges: 3980\n"
     ]
    }
   ],
   "source": [
    "print \"Number of nodes: %d\" % DG.number_of_nodes()\n",
    "print \"Number of edges: %d\" % DG.number_of_edges()"
   ]
  },
  {
   "cell_type": "markdown",
   "metadata": {},
   "source": [
    "Given the size, we cannot plot the network as in the first tutorial.\n",
    "In the second part of this tutorial, we will calculate some, more advanced, indexes for the network."
   ]
  },
  {
   "cell_type": "markdown",
   "metadata": {},
   "source": [
    "**(1 point) Assignment question #2.1:** Starting from [the same bzipped JSON twitter dataset](http://rizoiu.eu/sna-lab-ipython/twitter-dump.json.bz2), construct the social graph based on the reply relation. Analyse (as shown in *Step 3*) which fields you require and give the Python code necessary for constructing the network."
   ]
  },
  {
   "cell_type": "markdown",
   "metadata": {},
   "source": [
    "**(1 point) Assignment question #2.2:** How many nodes and edges do you have in the resulted reply graph?"
   ]
  },
  {
   "cell_type": "markdown",
   "metadata": {},
   "source": [
    "2.2 Connected components.\n",
    "---"
   ]
  },
  {
   "cell_type": "markdown",
   "metadata": {},
   "source": [
    "In the second part of this tutorial, we will work on the undirected version of the social graph. In other words, we will not make a difference between the edge $u_1 \\longrightarrow u_2$ and the edge $u_1 \\longleftarrow u_2$. This is to simplify the calculations of the connected components. We make an **undirected** copy of the social network graph."
   ]
  },
  {
   "cell_type": "code",
   "execution_count": 8,
   "metadata": {
    "collapsed": false
   },
   "outputs": [],
   "source": [
    "# create an undirected copy of our graph\n",
    "G = DG.to_undirected()"
   ]
  },
  {
   "cell_type": "markdown",
   "metadata": {},
   "source": [
    "In the dataset used in [tutorial 1](http://nbviewer.ipython.org/url/rizoiu.eu/sna-lab-ipython/tutorial-1-construct-social-graph.ipynb), every user was connected to everybody else.\n",
    "In a real-life dataset like the one used in this tutorial, it is very possible that users are grouped in communities which do not have any connection one to another.\n",
    "Let's take, for example the following graph:"
   ]
  },
  {
   "cell_type": "code",
   "execution_count": 9,
   "metadata": {
    "collapsed": false
   },
   "outputs": [
    {
     "data": {
      "image/png": "[encoded data removed]",
      "text/plain": [
       "<matplotlib.figure.Figure at 0x1066582d0>"
      ]
     },
     "metadata": {},
     "output_type": "display_data"
    }
   ],
   "source": [
    "%matplotlib inline\n",
    "\n",
    "# generating a two component graph\n",
    "EG = nx.Graph()\n",
    "EG.add_nodes_from([1, 2, 3, 4, 5, 6, 7])\n",
    "EG.add_edges_from([(1, 2), (2, 3), (1, 3), (1, 7), (4, 5), (5, 6)])\n",
    "\n",
    "# draw it\n",
    "nx.draw_spring(EG)"
   ]
  },
  {
   "cell_type": "markdown",
   "metadata": {},
   "source": [
    "Considering that each node is an user and the edges represent relations between users, the example graph contains 2 communities which have no connection one to another: (1, 2, 3, 7) and (4, 5, 6).\n",
    "Let us see if the real-life Twitter social graph is connected or if it contains multiple unlinked communities:"
   ]
  },
  {
   "cell_type": "code",
   "execution_count": 10,
   "metadata": {
    "collapsed": false
   },
   "outputs": [
    {
     "name": "stdout",
     "output_type": "stream",
     "text": [
      "The graph contains 344 connected components.\n"
     ]
    }
   ],
   "source": [
    "if nx.is_connected(G):\n",
    "    print \"The graph is connected, it has only one connected component\"\n",
    "else:\n",
    "    print \"The graph contains %d connected components.\" % nx.number_connected_components(G)"
   ]
  },
  {
   "cell_type": "markdown",
   "metadata": {},
   "source": [
    "Real social graphs have the tendency of presenting a \"giant connected component\" which contains most of the users in the network. In other words, most of the users are not isolated. We detect the connected components, sort them by their size and print the size of the first 5 of them, as well as the percentage they represent from the total population."
   ]
  },
  {
   "cell_type": "code",
   "execution_count": 11,
   "metadata": {
    "collapsed": false
   },
   "outputs": [
    {
     "name": "stdout",
     "output_type": "stream",
     "text": [
      "Connected components, inversely sorted by size:\n",
      "Rank 0: 3185 users (77.063% of total population)\n",
      "Rank 1: 91 users (2.202% of total population)\n",
      "Rank 2: 36 users (0.871% of total population)\n",
      "Rank 3: 13 users (0.315% of total population)\n",
      "Rank 4: 10 users (0.242% of total population)\n"
     ]
    }
   ],
   "source": [
    "Gcc=sorted(nx.connected_component_subgraphs(G), key = len, reverse=True)\n",
    "print \"Connected components, inversely sorted by size:\"\n",
    "for i in range(5):\n",
    "    print \"Rank {:d}: {:d} users ({:.3f}% of total population)\".format(i, len(Gcc[i]), (float(len(Gcc[i])) * 100 / len(G)))"
   ]
  },
  {
   "cell_type": "markdown",
   "metadata": {},
   "source": [
    "In conclusion, more than 77% of the user population is connected into *one giant connected component*. The remainder of 343 connected components represent less than 23% of the user populations."
   ]
  },
  {
   "cell_type": "markdown",
   "metadata": {},
   "source": [
    "**(1 point) Assignment question #2.3:** Using the `networkx` functions, filter the social graph to its *giant connected component*. \n",
    "Calculate for this new graph: i) the number of nodes, ii) the number of edges, iii) the radius and iv) the diameter.  \n",
    "**HINT:** You can either construct a new graph which contains only the nodes and edges in the *giant connected component* or you can remove from your initial graph all the nodes and edges belonging to the other connected components."
   ]
  },
  {
   "cell_type": "markdown",
   "metadata": {},
   "source": [
    " 2.3 Page Rank\n",
    " ---"
   ]
  },
  {
   "cell_type": "markdown",
   "metadata": {},
   "source": [
    "In this third part of the tutorial, we compute the PageRank of each node of our social graph. \n",
    "PageRank is a link analysis algorithm and it assigns a numerical weighting to each element of a hyperlinked set of documents, such as the World Wide Web, with the purpose of \"measuring\" its relative importance within the set. \n",
    "The algorithm may be applied to any collection of entities with reciprocal quotations and references, meaning it can be applied on our Twitter user population.\n",
    "The numerical weight that it assigns to any given element E is referred to as the PageRank of $p$ and denoted by $PR(p)$. "
   ]
  },
  {
   "cell_type": "markdown",
   "metadata": {},
   "source": [
    "The \"improved\" formula for the PageRank is (please see lecture notes):  \n",
    "$$PR(p) = \\frac{(1-d)}{n} + d \\sum_{b \\in B(p)} \\frac{1}{N(b)} PR(b)$$  \n",
    "where:\n",
    "* $p$ is the user for which the PageRank is computed;\n",
    "* $d \\in [0, 1]$ is the *decay factor* to avoid sinks and hogs;\n",
    "* $N(b)$ is the number of outgoing links from page $b$;\n",
    "* $B(p)$ is the set of back-links towards page $p$ (the set of nodes $b$ so that there is an edge $ b \\longrightarrow p$);\n",
    "* $n$ is the total number of nodes in the graph."
   ]
  },
  {
   "cell_type": "markdown",
   "metadata": {},
   "source": [
    "One of the simplest ways to calculate the PageRank iteratively. The PageRank of all nodes are initialized with an equal value:\n",
    "$$ PageRank^{(0)}(p) = \\frac{1}{n}, \\forall p \\enspace.$$\n",
    "At each step $k$, the $PageRank^{(k)}(p)$ is calculated depending on the values at the previous step."
   ]
  },
  {
   "cell_type": "markdown",
   "metadata": {},
   "source": [
    "The algorithm for calculating the PageRank would be resumed at:  \n",
    "Initialize $ PageRank^{(0)}(p) = \\frac{1}{n}, \\forall p$  \n",
    "repeat  \n",
    "&nbsp;&nbsp;&nbsp;&nbsp;&nbsp;&nbsp; $ k = k + 1$  \n",
    "&nbsp;&nbsp;&nbsp;&nbsp;&nbsp;&nbsp; foreach $p$  \n",
    "&nbsp;&nbsp;&nbsp;&nbsp;&nbsp;&nbsp;&nbsp;&nbsp;&nbsp;&nbsp;&nbsp;&nbsp; determine $N(p)$  \n",
    "&nbsp;&nbsp;&nbsp;&nbsp;&nbsp;&nbsp;&nbsp;&nbsp;&nbsp;&nbsp;&nbsp;&nbsp; determine $B(p)$  \n",
    "&nbsp;&nbsp;&nbsp;&nbsp;&nbsp;&nbsp;&nbsp;&nbsp;&nbsp;&nbsp;&nbsp;&nbsp; $PR^{(k)}(p) = \\frac{(1-d)}{n} + d \\sum_{b \\in B(p)} \\frac{1}{N(b)} PR^{(k-1)}(b)$   \n",
    "&nbsp;&nbsp;&nbsp;&nbsp;&nbsp;&nbsp; endforeach  \n",
    "until $ \\left(k > maxiter \\right) $"
   ]
  },
  {
   "cell_type": "markdown",
   "metadata": {},
   "source": [
    "**(1 point) Assignment question #2.4:** This assignment question is to calculate iteratively the basic form of the PageRank on the reply social graph constructed previously. Considering that *DG* is the constructed directed networkx graph constructed at the **Assignment questions #2.1**. We will construct the *PageRank* on the largest [*weakly connected component*](http://en.wikipedia.org/wiki/Connectivity_%28graph_theory%29). This is constructed as shown hereafter.\n",
    "Your job is to compute the PageRank, using the algorithm provided in the tutorial and exemplified in the lecture notes.\n",
    "Use a maximum of $maxiter = 20$ iterations."
   ]
  },
  {
   "cell_type": "code",
   "execution_count": 15,
   "metadata": {
    "collapsed": false
   },
   "outputs": [],
   "source": [
    "import operator\n",
    "from itertools import islice\n",
    "\n",
    "# get the list of weakly connected components, sorted by size\n",
    "omp_List = sorted(nx.weakly_connected_component_subgraphs(DG), key = len, reverse=True)\n",
    "\n",
    "# we want the first component, the biggest\n",
    "WCDG = omp_List[0]"
   ]
  },
  {
   "cell_type": "code",
   "execution_count": 14,
   "metadata": {
    "collapsed": false
   },
   "outputs": [
    {
     "ename": "IndentationError",
     "evalue": "expected an indented block (<ipython-input-14-4b6c8ac5f8c4>, line 33)",
     "output_type": "error",
     "traceback": [
      "\u001b[0;36m  File \u001b[0;32m\"<ipython-input-14-4b6c8ac5f8c4>\"\u001b[0;36m, line \u001b[0;32m33\u001b[0m\n\u001b[0;31m    PR = new_PR\u001b[0m\n\u001b[0m     ^\u001b[0m\n\u001b[0;31mIndentationError\u001b[0m\u001b[0;31m:\u001b[0m expected an indented block\n"
     ]
    }
   ],
   "source": [
    "# get the number of nodes of the graph\n",
    "n = len(WCDG.nodes())\n",
    "\n",
    "# initialize the PR at moment 0 using a dictionary of pairs {node : score}\n",
    "PR = {}\n",
    "for node in WCDG.nodes():\n",
    "    PR[node] = 1.0/n\n",
    "\n",
    "# initialize variables\n",
    "no_iter=0     # current iteration\n",
    "iter_max=20   # maximum number of iterations\n",
    "d = 0.7       # decay factor\n",
    "while no_iter < iter_max: # iterate until maximum iterations\n",
    "    \n",
    "    # at each iteration, we compute a new version of the PageRank for each node\n",
    "    new_PR = {}\n",
    "    no_iter = no_iter + 1\n",
    "    \n",
    "    # calculate the PageRank of each node (`new_PR[node]`), based on the previous values (`PR[other_nodes]`)\n",
    "    for node in WCDG.nodes():\n",
    "        ## code for calculating new_PR[node].\n",
    "        \n",
    "    # at the end of iteration, replace old values of PR with the new ones\n",
    "    PR = new_PR\n",
    "    \n",
    "# even if a dictionary is not sorted (it is just a collection) we sort it so that the next\n",
    "# printing at the screen shows some interesting values\n",
    "sorted_PR = sorted(PR.iteritems(), key=operator.itemgetter(1), reverse=True)\n",
    "\n",
    "# and print it out the first 10 elements\n",
    "dict(islice(sorted_PR, 10))"
   ]
  },
  {
   "cell_type": "markdown",
   "metadata": {},
   "source": [
    "`networkx` already contains methods for computing the PageRank:"
   ]
  },
  {
   "cell_type": "code",
   "execution_count": 17,
   "metadata": {
    "collapsed": false
   },
   "outputs": [
    {
     "data": {
      "text/plain": [
       "{16679529: 0.012196708395375032,\n",
       " 34507480: 0.309677573682929,\n",
       " 70054190: 0.003492735759827362,\n",
       " 170656421: 0.009775042845883429,\n",
       " 393488321: 0.009427027882667242,\n",
       " 851254111: 0.003445393631551921,\n",
       " 1123082485: 0.004269944694225775,\n",
       " 1703320855: 0.0030277533169585464,\n",
       " 2160213779: 0.0028882460152326833,\n",
       " 2362948705: 0.004611077925771978}"
      ]
     },
     "execution_count": 17,
     "metadata": {},
     "output_type": "execute_result"
    }
   ],
   "source": [
    "from itertools import islice\n",
    "\n",
    "# compute the pagerank\n",
    "pr = nx.pagerank(WCDG)\n",
    "\n",
    "# even if a dictionary is not sorted (it is just a collection) we sort it so that the next\n",
    "# printing at the screen to show some interesting values\n",
    "sorted_pr = sorted(pr.iteritems(), key=operator.itemgetter(1), reverse=True)\n",
    "\n",
    "# and print it out the first 10 elements\n",
    "dict(islice(sorted_pr, 10))"
   ]
  },
  {
   "cell_type": "markdown",
   "metadata": {},
   "source": [
    "Optional assignments\n",
    "---\n",
    "The purpose of the optional assignments here after is to guide you into a more in depth analysis of the social network.\n",
    "These assignments are optional and **they will not be graded**.\n",
    "Whatsoever, if you have questions regarding them, you may discuss them with your tutor or post them on the forum."
   ]
  },
  {
   "cell_type": "markdown",
   "metadata": {},
   "source": [
    "**Optional Assignment question:** Compute and compare the first 10 nodes with the highest PageRank according to (i) your results obtained at **Assignment question #2.4** and (ii) the scores computed by the PageRank function integrated into `networkx`."
   ]
  },
  {
   "cell_type": "code",
   "execution_count": null,
   "metadata": {
    "collapsed": false
   },
   "outputs": [],
   "source": []
  }
 ],
 "metadata": {
  "kernelspec": {
   "display_name": "Python 2",
   "language": "python",
   "name": "python2"
  },
  "language_info": {
   "codemirror_mode": {
    "name": "ipython",
    "version": 2
   },
   "file_extension": ".py",
   "mimetype": "text/x-python",
   "name": "python",
   "nbconvert_exporter": "python",
   "pygments_lexer": "ipython2",
   "version": "2.7.12"
  }
 },
 "nbformat": 4,
 "nbformat_minor": 0
}
